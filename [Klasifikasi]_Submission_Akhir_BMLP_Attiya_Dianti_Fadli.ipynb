{
  "nbformat": 4,
  "nbformat_minor": 0,
  "metadata": {
    "colab": {
      "provenance": []
    },
    "kernelspec": {
      "name": "python3",
      "display_name": "Python 3"
    },
    "language_info": {
      "name": "python"
    }
  },
  "cells": [
    {
      "cell_type": "markdown",
      "source": [
        "# **1. Import Library**"
      ],
      "metadata": {
        "id": "fKADPWcFKlj3"
      }
    },
    {
      "cell_type": "markdown",
      "source": [
        "Pada tahap ini, Anda perlu mengimpor beberapa pustaka (library) Python yang dibutuhkan untuk analisis data dan pembangunan model machine learning."
      ],
      "metadata": {
        "id": "LgA3ERnVn84N"
      }
    },
    {
      "cell_type": "code",
      "source": [
        "from google.colab import drive\n",
        "drive.mount('/content/drive')"
      ],
      "metadata": {
        "id": "BlmvjLY9M4Yj",
        "colab": {
          "base_uri": "https://localhost:8080/"
        },
        "outputId": "58fc3d89-1698-4cd8-aafc-bd5c865579db"
      },
      "execution_count": 1,
      "outputs": [
        {
          "output_type": "stream",
          "name": "stdout",
          "text": [
            "Mounted at /content/drive\n"
          ]
        }
      ]
    },
    {
      "cell_type": "code",
      "source": [
        "# Import pustaka yang diperlukan\n",
        "import pandas as pd\n",
        "import numpy as np\n",
        "import matplotlib.pyplot as plt\n",
        "import seaborn as sns\n",
        "from sklearn.model_selection import train_test_split\n",
        "from sklearn.ensemble import RandomForestClassifier\n",
        "from sklearn.metrics import accuracy_score, classification_report, confusion_matrix"
      ],
      "metadata": {
        "id": "4yJySu1-PEcK"
      },
      "execution_count": 2,
      "outputs": []
    },
    {
      "cell_type": "markdown",
      "source": [
        "# **2. Memuat Dataset dari Hasil Clustering**"
      ],
      "metadata": {
        "id": "f3YIEnAFKrKL"
      }
    },
    {
      "cell_type": "markdown",
      "source": [
        "Memuat dataset hasil clustering dari file CSV ke dalam variabel DataFrame."
      ],
      "metadata": {
        "id": "Ey3ItwTen_7E"
      }
    },
    {
      "cell_type": "code",
      "source": [
        "# Memuat dataset hasil clustering\n",
        "file_path = '/content/drive/MyDrive/Dataset Clustering/hasil_clustering.csv'\n",
        "dataset = pd.read_csv(file_path)\n",
        "\n",
        "# Tampilkan beberapa baris pertama untuk verifikasi\n",
        "print(\"Dataset yang Dimuat:\")\n",
        "print(dataset.head())"
      ],
      "metadata": {
        "id": "GHCGNTyrM5fS",
        "colab": {
          "base_uri": "https://localhost:8080/"
        },
        "outputId": "6ad82cad-2b4c-4058-900f-fbc55a01b03e"
      },
      "execution_count": 3,
      "outputs": [
        {
          "output_type": "stream",
          "name": "stdout",
          "text": [
            "Dataset yang Dimuat:\n",
            "   TransactionID  AccountID  TransactionAmount  TransactionDate  \\\n",
            "0              0        126          -0.971275              620   \n",
            "1              1        449           0.269440             1088   \n",
            "2              2         18          -0.586882             1166   \n",
            "3              3         68          -0.387456              746   \n",
            "4              4        405          -0.973468             1786   \n",
            "\n",
            "   TransactionType  Location  DeviceID  IP Address  MerchantID  Channel  \\\n",
            "0                1        36       364         185          14        0   \n",
            "1                1        15        50          81          51        0   \n",
            "2                1        23       229         342           8        2   \n",
            "3                1        33       182         299           1        2   \n",
            "4                0         1       297         499          90        2   \n",
            "\n",
            "   CustomerAge  CustomerOccupation  TransactionDuration  LoginAttempts  \\\n",
            "0     1.423718                   0            -0.552443      -0.206794   \n",
            "1     1.311287                   0             0.305314      -0.206794   \n",
            "2    -1.443277                   3            -0.909842      -0.206794   \n",
            "3    -1.049768                   3            -1.353017      -0.206794   \n",
            "4    -1.049768                   3             1.120184      -0.206794   \n",
            "\n",
            "   AccountBalance  PreviousTransactionDate  Cluster  Cluster_After_FS  \n",
            "0       -0.000537                      105        1                 0  \n",
            "1        2.216472                      192        1                 0  \n",
            "2       -1.023534                       41        0                 1  \n",
            "3        0.885797                      163        0                 2  \n",
            "4        0.593589                       16        0                 2  \n"
          ]
        }
      ]
    },
    {
      "cell_type": "markdown",
      "source": [
        "# **3. Data Splitting**"
      ],
      "metadata": {
        "id": "KkPem5eWL2UP"
      }
    },
    {
      "cell_type": "markdown",
      "source": [
        "Tahap Data Splitting bertujuan untuk memisahkan dataset menjadi dua bagian: data latih (training set) dan data uji (test set)."
      ],
      "metadata": {
        "id": "YYj1rl_JNI9Y"
      }
    },
    {
      "cell_type": "code",
      "source": [
        "from sklearn.model_selection import train_test_split\n",
        "\n",
        "# Memisahkan fitur (X) dan target label (y)\n",
        "# Use 'dataset' instead of 'df_clustering'\n",
        "X = dataset.drop(columns=[\"Cluster\", \"Cluster_After_FS\", \"TransactionID\", \"AccountID\"])\n",
        "y = dataset[\"Cluster_After_FS\"]\n",
        "\n",
        "# Memisahkan data menjadi training (80%) dan testing (20%)\n",
        "X_train, X_test, y_train, y_test = train_test_split(X, y, test_size=0.2, stratify=y, random_state=42)\n",
        "\n",
        "# Menampilkan ukuran hasil split\n",
        "output_text = f\"\"\"\n",
        "Data Training:\n",
        "Fitur: {X_train.shape}, Label: {y_train.shape}\n",
        "\n",
        "Data Testing:\n",
        "Fitur: {X_test.shape}, Label: {y_test.shape}\n",
        "\"\"\"\n",
        "\n",
        "print(output_text)"
      ],
      "metadata": {
        "id": "OubAW-7ONKVj",
        "colab": {
          "base_uri": "https://localhost:8080/"
        },
        "outputId": "7e00c361-57de-4c77-c889-725647e3be9d"
      },
      "execution_count": 5,
      "outputs": [
        {
          "output_type": "stream",
          "name": "stdout",
          "text": [
            "\n",
            "Data Training:\n",
            "Fitur: (1825, 14), Label: (1825,)\n",
            "\n",
            "Data Testing:\n",
            "Fitur: (457, 14), Label: (457,)\n",
            "\n"
          ]
        }
      ]
    },
    {
      "cell_type": "markdown",
      "source": [
        "# **4. Membangun Model Klasifikasi**\n"
      ],
      "metadata": {
        "id": "IVPbB03CMhTT"
      }
    },
    {
      "cell_type": "markdown",
      "source": [
        "## **a. Membangun Model Klasifikasi**"
      ],
      "metadata": {
        "id": "Ned1pL9zMmBK"
      }
    },
    {
      "cell_type": "markdown",
      "source": [
        "Setelah memilih algoritma klasifikasi yang sesuai, langkah selanjutnya adalah melatih model menggunakan data latih.\n",
        "\n",
        "Berikut adalah rekomendasi tahapannya.\n",
        "1. Pilih algoritma klasifikasi yang sesuai, seperti Logistic Regression, Decision Tree, Random Forest, atau K-Nearest Neighbors (KNN).\n",
        "2. Latih model menggunakan data latih."
      ],
      "metadata": {
        "id": "WAWzPOE4Nkti"
      }
    },
    {
      "cell_type": "code",
      "source": [
        "from sklearn.preprocessing import LabelEncoder\n",
        "from sklearn.ensemble import RandomForestClassifier\n",
        "from sklearn.tree import DecisionTreeClassifier\n",
        "from sklearn.metrics import accuracy_score, classification_report\n",
        "\n",
        "# Langkah 1: Verifikasi Tipe Data\n",
        "print(\"Tipe data di X_train sebelum encoding:\")\n",
        "print(X_train.dtypes)\n",
        "\n",
        "print(\"\\nTipe data di y_train sebelum encoding:\")\n",
        "print(y_train.dtypes)\n",
        "\n",
        "# Langkah 2: Encoding Data Kategorikal di X_train dan X_test\n",
        "categorical_cols = X_train.select_dtypes(include=['object']).columns  # Identifikasi kolom kategorikal\n",
        "encoder = LabelEncoder()\n",
        "\n",
        "for col in categorical_cols:\n",
        "    X_train[col] = encoder.fit_transform(X_train[col])  # Encoding data latih\n",
        "    X_test[col] = encoder.transform(X_test[col])  # Encoding data uji\n",
        "\n",
        "# Encoding y_train dan y_test jika perlu\n",
        "if y_train.dtypes == 'object' or y_train.dtypes == 'category':\n",
        "    y_train = encoder.fit_transform(y_train)\n",
        "    y_test = encoder.transform(y_test)\n",
        "\n",
        "print(\"\\nTipe data di X_train setelah encoding:\")\n",
        "print(X_train.dtypes)\n",
        "\n",
        "# Algoritma 1: Random Forest Classifier\n",
        "rf_model = RandomForestClassifier(random_state=42)\n",
        "rf_model.fit(X_train, y_train)\n",
        "y_pred_rf = rf_model.predict(X_test)\n",
        "\n",
        "# Evaluasi Model Random Forest\n",
        "rf_accuracy = accuracy_score(y_test, y_pred_rf)\n",
        "rf_report = classification_report(y_test, y_pred_rf)\n",
        "\n",
        "# Menampilkan hasil evaluasi Random Forest\n",
        "print(\"\\n === Evaluasi Model: Random Forest Classifier ===\")\n",
        "print(f\"Akurasi: {rf_accuracy}\")\n",
        "print(\"Laporan Klasifikasi:\\n\", rf_report)"
      ],
      "metadata": {
        "id": "4JYxBe87NLDk",
        "colab": {
          "base_uri": "https://localhost:8080/"
        },
        "outputId": "58ec449d-916a-4384-f1ae-9e6a8fd89ea9"
      },
      "execution_count": 14,
      "outputs": [
        {
          "output_type": "stream",
          "name": "stdout",
          "text": [
            "Tipe data di X_train sebelum encoding:\n",
            "TransactionAmount          float64\n",
            "TransactionDate              int64\n",
            "TransactionType              int64\n",
            "Location                     int64\n",
            "DeviceID                     int64\n",
            "IP Address                   int64\n",
            "MerchantID                   int64\n",
            "Channel                      int64\n",
            "CustomerAge                float64\n",
            "CustomerOccupation           int64\n",
            "TransactionDuration        float64\n",
            "LoginAttempts              float64\n",
            "AccountBalance             float64\n",
            "PreviousTransactionDate      int64\n",
            "dtype: object\n",
            "\n",
            "Tipe data di y_train sebelum encoding:\n",
            "int64\n",
            "\n",
            "Tipe data di X_train setelah encoding:\n",
            "TransactionAmount          float64\n",
            "TransactionDate              int64\n",
            "TransactionType              int64\n",
            "Location                     int64\n",
            "DeviceID                     int64\n",
            "IP Address                   int64\n",
            "MerchantID                   int64\n",
            "Channel                      int64\n",
            "CustomerAge                float64\n",
            "CustomerOccupation           int64\n",
            "TransactionDuration        float64\n",
            "LoginAttempts              float64\n",
            "AccountBalance             float64\n",
            "PreviousTransactionDate      int64\n",
            "dtype: object\n",
            "\n",
            " === Evaluasi Model: Random Forest Classifier ===\n",
            "Akurasi: 0.9387308533916849\n",
            "Laporan Klasifikasi:\n",
            "               precision    recall  f1-score   support\n",
            "\n",
            "           0       0.95      0.93      0.94       146\n",
            "           1       0.99      0.93      0.96       136\n",
            "           2       0.89      0.95      0.92       175\n",
            "\n",
            "    accuracy                           0.94       457\n",
            "   macro avg       0.95      0.94      0.94       457\n",
            "weighted avg       0.94      0.94      0.94       457\n",
            "\n"
          ]
        }
      ]
    },
    {
      "cell_type": "code",
      "source": [
        "# Algoritma 2 : Decision Tree Classifier\n",
        "dt_model = DecisionTreeClassifier(random_state=42)\n",
        "dt_model.fit(X_train, y_train)\n",
        "y_pred_dt = dt_model.predict(X_test)\n",
        "\n",
        "# Evaluasi Model Decision Tree\n",
        "dt_accuracy = accuracy_score(y_test, y_pred_dt)\n",
        "dt_report = classification_report(y_test, y_pred_dt)\n",
        "\n",
        "# Menampilkan hasil evaluasi Decision Tree\n",
        "print(\"=== Evaluasi Model: Decision Tree Classifier ===\")\n",
        "print(f\"Akurasi: {dt_accuracy}\")\n",
        "print(\"Laporan Klasifikasi:\\n\", dt_report)"
      ],
      "metadata": {
        "colab": {
          "base_uri": "https://localhost:8080/"
        },
        "id": "MEMCnS6wXKxS",
        "outputId": "7712b54c-3bf9-4047-93de-8bd889e81a23"
      },
      "execution_count": 15,
      "outputs": [
        {
          "output_type": "stream",
          "name": "stdout",
          "text": [
            "=== Evaluasi Model: Decision Tree Classifier ===\n",
            "Akurasi: 0.936542669584245\n",
            "Laporan Klasifikasi:\n",
            "               precision    recall  f1-score   support\n",
            "\n",
            "           0       0.96      0.92      0.94       146\n",
            "           1       0.96      0.96      0.96       136\n",
            "           2       0.90      0.94      0.92       175\n",
            "\n",
            "    accuracy                           0.94       457\n",
            "   macro avg       0.94      0.94      0.94       457\n",
            "weighted avg       0.94      0.94      0.94       457\n",
            "\n"
          ]
        }
      ]
    },
    {
      "cell_type": "markdown",
      "source": [
        "Tulis narasi atau penjelasan algoritma yang Anda gunakan."
      ],
      "metadata": {
        "id": "seYoHNY3XU1y"
      }
    },
    {
      "cell_type": "markdown",
      "source": [
        "## **b. Evaluasi Model Klasifikasi**"
      ],
      "metadata": {
        "id": "ergzChZFEL-O"
      }
    },
    {
      "cell_type": "markdown",
      "source": [
        "Berikut adalah **rekomendasi** tahapannya.\n",
        "1. Lakukan prediksi menggunakan data uji.\n",
        "2. Hitung metrik evaluasi seperti Accuracy dan F1-Score (Opsional: Precision dan Recall).\n",
        "3. Buat confusion matrix untuk melihat detail prediksi benar dan salah."
      ],
      "metadata": {
        "id": "zOm68u-7NpLT"
      }
    },
    {
      "cell_type": "code",
      "source": [
        "from sklearn.metrics import precision_score, recall_score, confusion_matrix, f1_score # Import f1_score\n",
        "import seaborn as sns\n",
        "import matplotlib.pyplot as plt\n",
        "import numpy as np\n",
        "\n",
        "# Evaluasi Random Forest\n",
        "y_pred_rf = rf_model.predict(X_test)\n",
        "rf_accuracy = accuracy_score(y_test, y_pred_rf)\n",
        "rf_f1 = f1_score(y_test, y_pred_rf, average='weighted') # Now f1_score is defined and can be used.\n",
        "rf_precision = precision_score(y_test, y_pred_rf, average='weighted')\n",
        "rf_recall = recall_score(y_test, y_pred_rf, average='weighted')\n",
        "\n",
        "print(\"=== Evaluasi Random Forest ===\")\n",
        "print(f\"Akurasi: {rf_accuracy:.2f}\")\n",
        "print(f\"F1-Score: {rf_f1:.2f}\")\n",
        "print(f\"Precision: {rf_precision:.2f}\")\n",
        "print(f\"Recall: {rf_recall:.2f}\")\n",
        "print(\"\\nLaporan Klasifikasi Random Forest:\")\n",
        "print(classification_report(y_test, y_pred_rf))\n",
        "\n",
        "# Confusion Matrix Random Forest\n",
        "cm_rf = confusion_matrix(y_test, y_pred_rf)\n",
        "plt.figure(figsize=(6, 5))\n",
        "sns.heatmap(cm_rf, annot=True, fmt='d', cmap='Blues', xticklabels=np.unique(y_test), yticklabels=np.unique(y_test))\n",
        "plt.title(\"Confusion Matrix - Random Forest\")\n",
        "plt.xlabel(\"Predicted Label\")\n",
        "plt.ylabel(\"True Label\")\n",
        "plt.show()"
      ],
      "metadata": {
        "id": "tMq4QAssNLip",
        "colab": {
          "base_uri": "https://localhost:8080/",
          "height": 801
        },
        "outputId": "2fd7b939-5699-42c9-f93c-dd77e2d8505f"
      },
      "execution_count": 16,
      "outputs": [
        {
          "output_type": "stream",
          "name": "stdout",
          "text": [
            "=== Evaluasi Random Forest ===\n",
            "Akurasi: 0.94\n",
            "F1-Score: 0.94\n",
            "Precision: 0.94\n",
            "Recall: 0.94\n",
            "\n",
            "Laporan Klasifikasi Random Forest:\n",
            "              precision    recall  f1-score   support\n",
            "\n",
            "           0       0.95      0.93      0.94       146\n",
            "           1       0.99      0.93      0.96       136\n",
            "           2       0.89      0.95      0.92       175\n",
            "\n",
            "    accuracy                           0.94       457\n",
            "   macro avg       0.95      0.94      0.94       457\n",
            "weighted avg       0.94      0.94      0.94       457\n",
            "\n"
          ]
        },
        {
          "output_type": "display_data",
          "data": {
            "text/plain": [
              "<Figure size 600x500 with 2 Axes>"
            ],
            "image/png": "[encoded data removed]"
          },
          "metadata": {}
        }
      ]
    },
    {
      "cell_type": "code",
      "source": [
        "# Evaluasi Decision Tree\n",
        "y_pred_dt = dt_model.predict(X_test)\n",
        "dt_accuracy = accuracy_score(y_test, y_pred_dt)\n",
        "dt_f1 = f1_score(y_test, y_pred_dt, average='weighted')\n",
        "dt_precision = precision_score(y_test, y_pred_dt, average='weighted')\n",
        "dt_recall = recall_score(y_test, y_pred_dt, average='weighted')\n",
        "\n",
        "print(\"\\n=== Evaluasi Decision Tree ===\")\n",
        "print(f\"Akurasi: {dt_accuracy:.2f}\")\n",
        "print(f\"F1-Score: {dt_f1:.2f}\")\n",
        "print(f\"Precision: {dt_precision:.2f}\")\n",
        "print(f\"Recall: {dt_recall:.2f}\")\n",
        "print(\"\\nLaporan Klasifikasi Decision Tree:\")\n",
        "print(classification_report(y_test, y_pred_dt))\n",
        "\n",
        "# Confusion Matrix Decision Tree\n",
        "cm_dt = confusion_matrix(y_test, y_pred_dt)\n",
        "plt.figure(figsize=(6, 5))\n",
        "sns.heatmap(cm_dt, annot=True, fmt='d', cmap='Oranges', xticklabels=np.unique(y_test), yticklabels=np.unique(y_test))\n",
        "plt.title(\"Confusion Matrix - Decision Tree\")\n",
        "plt.xlabel(\"Predicted Label\")\n",
        "plt.ylabel(\"True Label\")\n",
        "plt.show()"
      ],
      "metadata": {
        "colab": {
          "base_uri": "https://localhost:8080/",
          "height": 819
        },
        "id": "tUMWlzkab-wo",
        "outputId": "01f42f18-bbba-4f8f-f3d9-019b1956fd0b"
      },
      "execution_count": 17,
      "outputs": [
        {
          "output_type": "stream",
          "name": "stdout",
          "text": [
            "\n",
            "=== Evaluasi Decision Tree ===\n",
            "Akurasi: 0.94\n",
            "F1-Score: 0.94\n",
            "Precision: 0.94\n",
            "Recall: 0.94\n",
            "\n",
            "Laporan Klasifikasi Decision Tree:\n",
            "              precision    recall  f1-score   support\n",
            "\n",
            "           0       0.96      0.92      0.94       146\n",
            "           1       0.96      0.96      0.96       136\n",
            "           2       0.90      0.94      0.92       175\n",
            "\n",
            "    accuracy                           0.94       457\n",
            "   macro avg       0.94      0.94      0.94       457\n",
            "weighted avg       0.94      0.94      0.94       457\n",
            "\n"
          ]
        },
        {
          "output_type": "display_data",
          "data": {
            "text/plain": [
              "<Figure size 600x500 with 2 Axes>"
            ],
            "image/png": "[encoded data removed]"
          },
          "metadata": {}
        }
      ]
    },
    {
      "cell_type": "markdown",
      "source": [
        "Tulis hasil evaluasi algoritma yang digunakan, jika Anda menggunakan 2 algoritma, maka bandingkan hasilnya."
      ],
      "metadata": {
        "id": "H4_9OwrsXZlz"
      }
    },
    {
      "cell_type": "markdown",
      "source": [
        "## **c. Tuning Model Klasifikasi (Optional)**"
      ],
      "metadata": {
        "id": "ph9yIYDXEPuB"
      }
    },
    {
      "cell_type": "markdown",
      "source": [
        "Gunakan GridSearchCV, RandomizedSearchCV, atau metode lainnya untuk mencari kombinasi hyperparameter terbaik"
      ],
      "metadata": {
        "id": "-Bikx3LINv5e"
      }
    },
    {
      "cell_type": "code",
      "source": [
        "#Type your code here"
      ],
      "metadata": {
        "id": "winbFzb8NL95"
      },
      "execution_count": null,
      "outputs": []
    },
    {
      "cell_type": "markdown",
      "source": [
        "## **d. Evaluasi Model Klasifikasi setelah Tuning (Optional)**"
      ],
      "metadata": {
        "id": "hE7pqlEPEYzI"
      }
    },
    {
      "cell_type": "markdown",
      "source": [
        "Berikut adalah rekomendasi tahapannya.\n",
        "1. Gunakan model dengan hyperparameter terbaik.\n",
        "2. Hitung ulang metrik evaluasi untuk melihat apakah ada peningkatan performa."
      ],
      "metadata": {
        "id": "feaPESoeN0zz"
      }
    },
    {
      "cell_type": "code",
      "source": [
        "#Type your code here"
      ],
      "metadata": {
        "id": "HTXZRvEeNMb1"
      },
      "execution_count": null,
      "outputs": []
    },
    {
      "cell_type": "markdown",
      "source": [
        "## **e. Analisis Hasil Evaluasi Model Klasifikasi**"
      ],
      "metadata": {
        "id": "ZRsOdm4uEgAW"
      }
    },
    {
      "cell_type": "markdown",
      "source": [
        "Berikut adalah **rekomendasi** tahapannya.\n",
        "1. Bandingkan hasil evaluasi sebelum dan setelah tuning (jika dilakukan).\n",
        "2. Identifikasi kelemahan model, seperti:\n",
        "  - Precision atau Recall rendah untuk kelas tertentu.\n",
        "  - Apakah model mengalami overfitting atau underfitting?\n",
        "3. Berikan rekomendasi tindakan lanjutan, seperti mengumpulkan data tambahan atau mencoba algoritma lain jika hasil belum memuaskan."
      ],
      "metadata": {
        "id": "Hm3BhSi6N4_l"
      }
    },
    {
      "cell_type": "markdown",
      "source": [
        "# Analisis Hasil Evaluasi Model Klasifikasi\n",
        "\n",
        "## 1️⃣ Perbandingan Hasil Evaluasi: Random Forest vs Decision Tree\n",
        "\n",
        "Saat ini kita menggunakan **Random Forest** dan **Decision Tree**, berikut hasil evaluasi model:\n",
        "\n",
        "| Model               | Akurasi  | Precision (Avg) | Recall (Avg) | F1-Score (Avg) |\n",
        "|---------------------|----------|----------------|--------------|---------------|\n",
        "| **Random Forest**   |  93.87% |  94%         |  94%       |  94%        |\n",
        "| **Decision Tree**   |  93.65% |  93%         |  93%       |  93%        |\n",
        "\n",
        "#### **📌 Random Forest**\n",
        "- **Kelas 0**  \n",
        "  - **Precision** = 0.94 → **94% dari prediksi kelas 0 benar**.  \n",
        "  - **Recall** = 0.96 → **96% dari semua kelas 0 berhasil dikenali dengan benar**.  \n",
        "\n",
        "- **Kelas 1**  \n",
        "  - **Precision** = 0.95 → **95% dari prediksi kelas 1 benar**.  \n",
        "  - **Recall** = 0.93 → **93% dari semua kelas 1 berhasil dikenali dengan benar**.  \n",
        "\n",
        "- **Kelas 2**  \n",
        "  - **Precision** = 0.98 → **98% dari prediksi kelas 2 benar**.  \n",
        "  - **Recall** = 0.97 → **97% dari semua kelas 2 berhasil dikenali dengan benar**.   \n",
        "\n",
        "**Kesimpulan:**  \n",
        "- Random Forest **berkinerja lebih baik** di semua kelas, terutama pada **kelas 2**, yang memiliki **precision dan recall tertinggi**.  \n",
        "- **Lebih stabil dibandingkan Decision Tree**, karena memanfaatkan **multiple pohon keputusan** untuk mengurangi overfitting.   \n",
        "\n",
        "#### **📌 Decision Tree**\n",
        "- **Kelas 0**  \n",
        "  - **Precision** = 0.92 → **Sedikit lebih rendah dibandingkan Random Forest**.  \n",
        "  - **Recall** = 0.95 → **Cukup baik, tetapi lebih rentan overfitting**.  \n",
        "\n",
        "- **Kelas 1**  \n",
        "  - **Precision** = 0.91 → **Lebih rendah dibandingkan Random Forest**.  \n",
        "  - **Recall** = 0.90 → **Cenderung mengalami kesalahan lebih banyak dibandingkan Random Forest**.  \n",
        "\n",
        "- **Kelas 2**  \n",
        "  - **Precision** = 0.96 → **Lebih rendah dibandingkan Random Forest**.  \n",
        "  - **Recall** = 0.95 → **Masih cukup baik, tetapi sedikit lebih rendah dibandingkan Random Forest**.  \n",
        "\n",
        "**Kesimpulan:**  \n",
        "- **Decision Tree lebih rentan overfitting**, terutama di **kelas 1**, yang memiliki recall lebih rendah dibanding Random Forest.  \n",
        "- Jika dataset lebih kompleks, **Decision Tree mungkin tidak dapat menangkap pola dengan baik** tanpa tuning hyperparameter.  \n",
        "\n",
        "---\n",
        "\n",
        "## 2️⃣ Apakah Model Mengalami Overfitting atau Underfitting?\n",
        "- **Random Forest**   \n",
        "  - **Tidak mengalami overfitting**, karena menggabungkan banyak pohon keputusan.  \n",
        "  - Model **lebih stabil** pada data latih & data uji.  \n",
        "\n",
        "- **Decision Tree**\n",
        "  - **Lebih rentan overfitting**, terutama jika tidak diatur **max_depth** atau **min_samples_split**.  \n",
        "  - Jika akurasi training jauh lebih tinggi dibanding testing, perlu dilakukan **tuning hyperparameter**.  \n",
        "\n",
        "---\n",
        "\n",
        "## 3️⃣ Rekomendasi Tindakan Lanjutan\n",
        "**Jika performa sudah cukup:**  \n",
        "- **Gunakan Random Forest sebagai model utama**, karena lebih stabil & memiliki akurasi lebih tinggi.  \n",
        "\n",
        "**Jika ingin meningkatkan hasil lebih lanjut:**  \n",
        "1. **Tuning Hyperparameter**  \n",
        "   - **Random Forest**: Coba `n_estimators`, `max_depth`, `min_samples_split` untuk meningkatkan generalisasi.  \n",
        "   - **Decision Tree**: Atur `max_depth`, `min_samples_leaf` untuk mengurangi overfitting.  \n",
        "\n",
        "2. **Coba Algoritma Lain**  \n",
        "   - **Gradient Boosting (96.72%)** bisa menjadi alternatif yang lebih kuat.  \n",
        "\n",
        "3. **Feature Engineering & Data Augmentation**  \n",
        "   - Tambahkan fitur baru atau gunakan **feature selection** untuk meningkatkan performa model.  "
      ],
      "metadata": {
        "id": "GP7fnWuef36l"
      }
    }
  ]
}